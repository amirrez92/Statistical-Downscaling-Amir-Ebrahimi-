{
 "cells": [
  {
   "cell_type": "code",
   "execution_count": null,
   "id": "c7fda6a3",
   "metadata": {},
   "outputs": [],
   "source": [
    "#Machine Learning approaches for statistical downscaling and prediction in climate.\n",
    "#Amir Ebrahimi\n",
    "#Amirreza70ebrahimi@gmail.com\n",
    "#https://github.com/amirrez92\n",
    "#https://www.linkedin.com/in/amir-ebrahimi1992/\n",
    "#https://www.researchgate.net/profile/Amir-Ebrahimi-9"
   ]
  },
  {
   "cell_type": "code",
   "execution_count": null,
   "id": "8c05efb9",
   "metadata": {},
   "outputs": [],
   "source": [
    "#First, import the essential libraries.\n",
    "import numpy as np\n",
    "import pandas as pd\n",
    "import matplotlib.pyplot as plt\n",
    "import seaborn as sns\n",
    "import sklearn\n",
    "from sklearn import metrics"
   ]
  },
  {
   "cell_type": "code",
   "execution_count": null,
   "id": "151217e9",
   "metadata": {},
   "outputs": [],
   "source": [
    "#Choose regressors.\n",
    "from sklearn.linear_model import LinearRegression\n",
    "from sklearn.ensemble import RandomForestRegressor\n",
    "from sklearn.svm import SVR"
   ]
  },
  {
   "cell_type": "code",
   "execution_count": null,
   "id": "9c13bbde",
   "metadata": {},
   "outputs": [],
   "source": [
    "#Read observations and NCEPs in one .csv file\n",
    "dat = pd.read_csv(\"datase.csv\")"
   ]
  },
  {
   "cell_type": "code",
   "execution_count": null,
   "id": "f91b8526",
   "metadata": {},
   "outputs": [],
   "source": [
    "#Calculate the correlation between observations and NCEPs.\n",
    "corr=dat.corr()\n",
    "fig = plt.figure(figsize=(15,12))\n",
    "r = sns.heatmap(corr, cmap='Purples' , annot=True)\n",
    "r.set_title(\"Correlation \")\n",
    "print (corr)"
   ]
  },
  {
   "cell_type": "code",
   "execution_count": null,
   "id": "05738a85",
   "metadata": {},
   "outputs": [],
   "source": [
    "#Based on the correlation, choose your suitable NCEPs and bring their columns in X. Then bring observation column (MT) in Y.\n",
    "X = dat[['a','b','s','t','z']]\n",
    "Y = dat[['MT']]"
   ]
  },
  {
   "cell_type": "code",
   "execution_count": null,
   "id": "8573186f",
   "metadata": {},
   "outputs": [],
   "source": [
    "#Define Calibration period in train and Validation period in test. Then specify the length of periods by iloc commands.\n",
    "#for example, we considered days 1 to 2921 for train and days 2922 to the end for test.\n",
    "X_train = X.iloc[:2922,].values\n",
    "Y_train = Y.iloc[:2922,].values\n",
    "\n",
    "X_test = X.iloc[2922:,].values\n",
    "Y_test = Y.iloc[2922:,].values"
   ]
  },
  {
   "cell_type": "code",
   "execution_count": null,
   "id": "3fa43b8c",
   "metadata": {},
   "outputs": [],
   "source": [
    "#print.\n",
    "X_train"
   ]
  },
  {
   "cell_type": "code",
   "execution_count": null,
   "id": "464f3e81",
   "metadata": {},
   "outputs": [],
   "source": [
    "#print.\n",
    "X_test"
   ]
  },
  {
   "cell_type": "code",
   "execution_count": null,
   "id": "707b94c4",
   "metadata": {},
   "outputs": [],
   "source": [
    "#print.\n",
    "Y_train"
   ]
  },
  {
   "cell_type": "code",
   "execution_count": null,
   "id": "4fb1b1ff",
   "metadata": {},
   "outputs": [],
   "source": [
    "#print.\n",
    "Y_test"
   ]
  },
  {
   "cell_type": "code",
   "execution_count": null,
   "id": "8a006639",
   "metadata": {},
   "outputs": [],
   "source": [
    "#Run regressors. in Random forest, you can change n_estimators and random_state. random state can be 42 or 26.\n",
    "lrregressor = LinearRegression()\n",
    "lrregressor.fit(X_train, Y_train)\n",
    "rfregressor = RandomForestRegressor(n_estimators = 10, random_state = 42)\n",
    "rfregressor.fit(X,Y)\n",
    "svmrbfregressor = SVR(kernel='rbf')\n",
    "svmrbfregressor.fit(X,Y)\n",
    "svmpolregressor = SVR(kernel='poly')\n",
    "svmpolregressor.fit(X,Y)"
   ]
  },
  {
   "cell_type": "code",
   "execution_count": null,
   "id": "15bdee9c",
   "metadata": {},
   "outputs": [],
   "source": [
    "#Statistical downscaling.\n",
    "prlrtrain=lrregressor.predict(X_train)\n",
    "prlrtest=lrregressor.predict(X_test)\n",
    "predrftrain=rfregressor.predict(X_train)\n",
    "predrftest=rfregressor.predict(X_test)\n",
    "predsvmrbftrain=svmrbfregressor.predict(X_train)\n",
    "predsvmrbftest=svmrbfregressor.predict(X_test)\n",
    "predsvmpoltrain=svmpolregressor.predict(X_train)\n",
    "predsvmpoltest=svmpolregressor.predict(X_test)"
   ]
  },
  {
   "cell_type": "code",
   "execution_count": null,
   "id": "36202ac9",
   "metadata": {},
   "outputs": [],
   "source": [
    "#calculate metrics to evaluate regressors.\n",
    "print('Mean Absolute Error:', metrics.mean_absolute_error(Y_train, prlrtrain))  \n",
    "print('Mean Squared Error:', metrics.mean_squared_error(Y_train, prlrtrain))  \n",
    "print('Root Mean Squared Error:', np.sqrt(metrics.mean_squared_error(Y_train, prlrtrain)))\n",
    "print('R^2:',metrics.r2_score(Y_train, prlrtrain))"
   ]
  },
  {
   "cell_type": "code",
   "execution_count": null,
   "id": "aa011df1",
   "metadata": {},
   "outputs": [],
   "source": [
    "#calculate metrics to evaluate regressors.\n",
    "print('Mean Absolute Error:', metrics.mean_absolute_error(Y_test, prlrtest))  \n",
    "print('Mean Squared Error:', metrics.mean_squared_error(Y_test, prlrtest))  \n",
    "print('Root Mean Squared Error:', np.sqrt(metrics.mean_squared_error(Y_test, prlrtest)))\n",
    "print('R^2:',metrics.r2_score(Y_test, prlrtest))"
   ]
  },
  {
   "cell_type": "code",
   "execution_count": null,
   "id": "0c3e1130",
   "metadata": {},
   "outputs": [],
   "source": [
    "#calculate metrics to evaluate regressors.\n",
    "print('Mean Absolute Error:', metrics.mean_absolute_error(Y_train, predrftrain))  \n",
    "print('Mean Squared Error:', metrics.mean_squared_error(Y_train, predrftrain))  \n",
    "print('Root Mean Squared Error:', np.sqrt(metrics.mean_squared_error(Y_train, predrftrain)))\n",
    "print('R^2:',metrics.r2_score(Y_train, predrftrain))"
   ]
  },
  {
   "cell_type": "code",
   "execution_count": null,
   "id": "43be9135",
   "metadata": {},
   "outputs": [],
   "source": [
    "#calculate metrics to evaluate regressors.\n",
    "print('Mean Absolute Error:', metrics.mean_absolute_error(Y_test, predrftest))  \n",
    "print('Mean Squared Error:', metrics.mean_squared_error(Y_test, predrftest))  \n",
    "print('Root Mean Squared Error:', np.sqrt(metrics.mean_squared_error(Y_test, predrftest)))\n",
    "print('R^2:',metrics.r2_score(Y_test, predrftest))"
   ]
  },
  {
   "cell_type": "code",
   "execution_count": null,
   "id": "1b9fd537",
   "metadata": {},
   "outputs": [],
   "source": [
    "#calculate metrics to evaluate regressors.\n",
    "print('Mean Absolute Error:', metrics.mean_absolute_error(Y_train, predsvmrbftrain))  \n",
    "print('Mean Squared Error:', metrics.mean_squared_error(Y_train, predsvmrbftrain))  \n",
    "print('Root Mean Squared Error:', np.sqrt(metrics.mean_squared_error(Y_train, predsvmrbftrain)))\n",
    "print('R^2:',metrics.r2_score(Y_train, predsvmrbftrain))"
   ]
  },
  {
   "cell_type": "code",
   "execution_count": null,
   "id": "efeace41",
   "metadata": {},
   "outputs": [],
   "source": [
    "#calculate metrics to evaluate regressors.\n",
    "print('Mean Absolute Error:', metrics.mean_absolute_error(Y_test, predsvmrbftest))  \n",
    "print('Mean Squared Error:', metrics.mean_squared_error(Y_test, predsvmrbftest))  \n",
    "print('Root Mean Squared Error:', np.sqrt(metrics.mean_squared_error(Y_test, predsvmrbftest)))\n",
    "print('R^2:',metrics.r2_score(Y_test, predsvmrbftest))"
   ]
  },
  {
   "cell_type": "code",
   "execution_count": null,
   "id": "1dd32fe7",
   "metadata": {},
   "outputs": [],
   "source": [
    "#calculate metrics to evaluate regressors.\n",
    "print('Mean Absolute Error:', metrics.mean_absolute_error(Y_train, predsvmpoltrain))  \n",
    "print('Mean Squared Error:', metrics.mean_squared_error(Y_train, predsvmpoltrain))  \n",
    "print('Root Mean Squared Error:', np.sqrt(metrics.mean_squared_error(Y_train, predsvmpoltrain)))\n",
    "print('R^2:',metrics.r2_score(Y_train, predsvmpoltrain))"
   ]
  },
  {
   "cell_type": "code",
   "execution_count": null,
   "id": "27bcec70",
   "metadata": {},
   "outputs": [],
   "source": [
    "#calculate metrics to evaluate regressors.\n",
    "print('Mean Absolute Error:', metrics.mean_absolute_error(Y_test, predsvmpoltest))  \n",
    "print('Mean Squared Error:', metrics.mean_squared_error(Y_test, predsvmpoltest))  \n",
    "print('Root Mean Squared Error:', np.sqrt(metrics.mean_squared_error(Y_test, predsvmpoltest)))\n",
    "print('R^2:',metrics.r2_score(Y_test, predsvmpoltest))"
   ]
  },
  {
   "cell_type": "code",
   "execution_count": null,
   "id": "d6308ea3",
   "metadata": {},
   "outputs": [],
   "source": [
    "#read RCP database. in CanESM2 model, RCPs are from 2006 to 2100.\n",
    "df = pd.read_csv(\"rcp26.csv\")"
   ]
  },
  {
   "cell_type": "code",
   "execution_count": null,
   "id": "6d5596f3",
   "metadata": {},
   "outputs": [],
   "source": [
    "#select suitable variables that were previously used.\n",
    "X_fut = df[['a','b','s','t','z']]\n",
    "Y_fut = df['MT']"
   ]
  },
  {
   "cell_type": "code",
   "execution_count": null,
   "id": "7aa40513",
   "metadata": {},
   "outputs": [],
   "source": [
    "#Predict MT in future using the appropriate regressor.\n",
    "future = rfregressor.predict(X_fut)"
   ]
  },
  {
   "cell_type": "code",
   "execution_count": null,
   "id": "7f1555c3",
   "metadata": {},
   "outputs": [],
   "source": [
    "datafuture = pd.DataFrame(data=future)"
   ]
  },
  {
   "cell_type": "code",
   "execution_count": null,
   "id": "01fef8d6",
   "metadata": {},
   "outputs": [],
   "source": [
    "#Export predicted data.\n",
    "datafuture.to_csv('predictedMT.csv')"
   ]
  }
 ],
 "metadata": {
  "kernelspec": {
   "display_name": "Python 3",
   "language": "python",
   "name": "python3"
  },
  "language_info": {
   "codemirror_mode": {
    "name": "ipython",
    "version": 3
   },
   "file_extension": ".py",
   "mimetype": "text/x-python",
   "name": "python",
   "nbconvert_exporter": "python",
   "pygments_lexer": "ipython3",
   "version": "3.8.8"
  }
 },
 "nbformat": 4,
 "nbformat_minor": 5
}
